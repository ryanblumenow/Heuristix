{
 "cells": [
  {
   "cell_type": "code",
   "execution_count": 2,
   "metadata": {},
   "outputs": [
    {
     "name": "stdout",
     "output_type": "stream",
     "text": [
      "Removed 0 samples\n",
      "Removed 0 samples\n"
     ]
    }
   ],
   "source": [
    "# Read data\n",
    "df = pd.read_csv('allrecordsohe.csv', low_memory=False)\n",
    "df2 = pd.read_csv('allrecords.csv', low_memory=False)\n",
    "branddf = pd.read_csv('Brandname encoding.csv', low_memory=False)\n",
    "\n",
    "# Check for empty data\n",
    "df.isnull().sum()\n",
    "df2.isnull().sum()\n",
    "\n",
    "# Remove NaN\n",
    "nr_samples_before = df.shape[0]\n",
    "df = df.fillna(0)\n",
    "print('Removed %s samples' % (nr_samples_before - df.shape[0]))\n",
    "nr_samples_before = df2.shape[0]\n",
    "df2 = df2.fillna(0)\n",
    "print('Removed %s samples' % (nr_samples_before - df2.shape[0]))\n",
    "\n",
    "# Drop irrelevant variables\n",
    "df.drop(['TD_ID', 'KRUX_ID', 'TAP_IT_ID', 'GOOGLE_CLIENT_ID'], axis=1, inplace=True)\n",
    "df2.drop(['TD_ID', 'KRUX_ID', 'TAP_IT_ID', 'GOOGLE_CLIENT_ID'], axis=1, inplace=True)\n",
    "\n",
    "# df = df.reset_index()\n",
    "# df2 = df2.reset_index()\n",
    "### End"
   ]
  },
  {
   "cell_type": "code",
   "execution_count": 6,
   "metadata": {},
   "outputs": [
    {
     "name": "stderr",
     "output_type": "stream",
     "text": [
      "c:\\Users\\ryan\\AppData\\Local\\Programs\\Python\\Python39\\lib\\site-packages\\sklearn\\model_selection\\_split.py:684: UserWarning: The least populated class in y has only 1 members, which is less than n_splits=2.\n",
      "  warnings.warn(\n",
      "c:\\Users\\ryan\\AppData\\Local\\Programs\\Python\\Python39\\lib\\site-packages\\sklearn\\model_selection\\_split.py:684: UserWarning: The least populated class in y has only 1 members, which is less than n_splits=2.\n",
      "  warnings.warn(\n",
      "c:\\Users\\ryan\\AppData\\Local\\Programs\\Python\\Python39\\lib\\site-packages\\sklearn\\model_selection\\_split.py:684: UserWarning: The least populated class in y has only 1 members, which is less than n_splits=2.\n",
      "  warnings.warn(\n"
     ]
    },
    {
     "name": "stdout",
     "output_type": "stream",
     "text": [
      "Mean Accuracy: 0.210 (0.003)\n"
     ]
    }
   ],
   "source": [
    "import numpy as np\n",
    "from sklearn.datasets import make_classification\n",
    "from sklearn.model_selection import cross_val_score\n",
    "from sklearn.model_selection import RepeatedStratifiedKFold\n",
    "from sklearn.linear_model import LogisticRegression\n",
    "from matplotlib import pyplot\n",
    "from sklearn.model_selection import train_test_split\n",
    "from numpy import mean\n",
    "from numpy import std\n",
    "\n",
    "# Define dataset\n",
    "\n",
    "# y = df['BRAND'].iloc[0:10000]\n",
    "# X = df.iloc[0:10000, 1:-1] #subsamping for efficiency and speed\n",
    "# dflogreg = df.drop(columns=['BRANDNAME'])\n",
    "dflogreg = df\n",
    "# print(dflogreg.head(5))\n",
    "ylogreg = dflogreg['BRAND'].sample(10000)\n",
    "Xlogreg = dflogreg.drop(columns=[\"BRANDNAME\"]).sample(10000) #subsamping for efficiency and speed\n",
    "varnames = dflogreg.columns.values.tolist()\n",
    "Xlogreg, ylogreg = np.array(Xlogreg), np.array(ylogreg)\n",
    "\n",
    "# Define the multinomial logistic regression model\n",
    "model = LogisticRegression(multi_class='multinomial', solver='lbfgs')\n",
    "\n",
    "# Define the model evaluation procedure\n",
    "cv = RepeatedStratifiedKFold(n_splits=2, n_repeats=3, random_state=1)\n",
    "\n",
    "# Evaluate the model and collect the scores\n",
    "n_scores = cross_val_score(model, Xlogreg, ylogreg, scoring='accuracy', cv=cv, n_jobs=-1)\n",
    "# report the model performance\n",
    "print('Mean Accuracy: %.3f (%.3f)' % (mean(n_scores), std(n_scores)))"
   ]
  },
  {
   "cell_type": "code",
   "execution_count": 13,
   "metadata": {},
   "outputs": [
    {
     "name": "stdout",
     "output_type": "stream",
     "text": [
      "Predicted Class: 39\n"
     ]
    },
    {
     "name": "stderr",
     "output_type": "stream",
     "text": [
      "c:\\Users\\ryan\\AppData\\Local\\Programs\\Python\\Python39\\lib\\site-packages\\sklearn\\linear_model\\_logistic.py:444: ConvergenceWarning: lbfgs failed to converge (status=1):\n",
      "STOP: TOTAL NO. of ITERATIONS REACHED LIMIT.\n",
      "\n",
      "Increase the number of iterations (max_iter) or scale the data as shown in:\n",
      "    https://scikit-learn.org/stable/modules/preprocessing.html\n",
      "Please also refer to the documentation for alternative solver options:\n",
      "    https://scikit-learn.org/stable/modules/linear_model.html#logistic-regression\n",
      "  n_iter_i = _check_optimize_result(\n"
     ]
    }
   ],
   "source": [
    "# make a prediction with a multinomial logistic regression model\n",
    "\n",
    "# define dataset\n",
    "X_trainlogreg, X_testlogreg, y_trainlogreg, y_testlogreg = train_test_split(Xlogreg, ylogreg, test_size=0.25, random_state=42)\n",
    "\n",
    "# define the multinomial logistic regression model\n",
    "model = LogisticRegression(multi_class='multinomial', solver='lbfgs')\n",
    "\n",
    "# fit the model on the training dataset\n",
    "model.fit(X_trainlogreg, y_trainlogreg)\n",
    "\n",
    "# define a single row of test data\n",
    "# row = X_testlogreg[0,0:] # Previous approach\n",
    "row = [0, 0, 0, 0, 3, 1, 0, 0, 0, 1, 0, 0, 0, 0, 1, 0, 1, 1, 1, 0, 0, 0, 0, 0, 0, 0, 0, 0, 0, 0, 0, 0, 0, 0, 0, 0, 0, 0, 0, 0, 0, 0, 0, 0, 0, 0, 0, 0, 0, 0, 0, 0, 0, 0, 0, 0, 0, 0, 0, 0, 0, 0, 0, 0, 0, 0, 0, 0, 0, 0, 0, 0]\n",
    "\n",
    "# predict the class label\n",
    "yhat = model.predict([row])\n",
    "# summarize the predicted class\n",
    "print('Predicted Class: %d' % yhat[0])"
   ]
  }
 ],
 "metadata": {
  "kernelspec": {
   "display_name": "Python 3.9.5 64-bit",
   "language": "python",
   "name": "python3"
  },
  "language_info": {
   "codemirror_mode": {
    "name": "ipython",
    "version": 3
   },
   "file_extension": ".py",
   "mimetype": "text/x-python",
   "name": "python",
   "nbconvert_exporter": "python",
   "pygments_lexer": "ipython3",
   "version": "3.9.5"
  },
  "orig_nbformat": 4,
  "vscode": {
   "interpreter": {
    "hash": "1025d07e0b816da1b4f0e1902ceef9ca33596fefa4ed29d035e4217051a8bdfd"
   }
  }
 },
 "nbformat": 4,
 "nbformat_minor": 2
}
